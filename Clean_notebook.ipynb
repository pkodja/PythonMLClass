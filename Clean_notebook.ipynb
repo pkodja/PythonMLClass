{
 "cells": [
  {
   "cell_type": "code",
   "execution_count": 1,
   "id": "6158578e",
   "metadata": {},
   "outputs": [],
   "source": [
    "import pandas as pd\n",
    "import numpy as np\n",
    "import os\n",
    "import glob"
   ]
  },
  {
   "cell_type": "code",
   "execution_count": 2,
   "id": "07d21652",
   "metadata": {},
   "outputs": [],
   "source": [
    "import tools #imports tools.py file which is in the current directory"
   ]
  },
  {
   "cell_type": "code",
   "execution_count": 3,
   "id": "cc7e4be3",
   "metadata": {},
   "outputs": [
    {
     "data": {
      "text/plain": [
       "['Data Preparation for Machine Learning by Jason Brownlee (z-lib.org).pdf',\n",
       " 'Imbalanced classification with python by Jason Brownlee (z-lib.org).pdf',\n",
       " 'XGBoost with Python by Jason Brownlee (z-lib.org).pdf']"
      ]
     },
     "execution_count": 3,
     "metadata": {},
     "output_type": "execute_result"
    }
   ],
   "source": [
    "tools.list_file_with_extension_cur_glob('.pdf') #test a function from tools.py"
   ]
  },
  {
   "cell_type": "code",
   "execution_count": 4,
   "id": "88b17816",
   "metadata": {},
   "outputs": [
    {
     "name": "stdout",
     "output_type": "stream",
     "text": [
      "Help on function is_file_exist in module tools:\n",
      "\n",
      "is_file_exist(path)\n",
      "    the function checks the full path's existence in the current directory and returns a boolean\n",
      "\n"
     ]
    }
   ],
   "source": [
    "help(tools.is_file_exist)"
   ]
  },
  {
   "cell_type": "code",
   "execution_count": 5,
   "id": "8516dabd",
   "metadata": {},
   "outputs": [
    {
     "name": "stdout",
     "output_type": "stream",
     "text": [
      "Help on function list_files_with_extension_cur in module tools:\n",
      "\n",
      "list_files_with_extension_cur(extension)\n",
      "    This function returns the list of the files with a given extension in the current directory\n",
      "\n"
     ]
    }
   ],
   "source": [
    "help(tools.list_files_with_extension_cur)"
   ]
  },
  {
   "cell_type": "code",
   "execution_count": null,
   "id": "dffa1125",
   "metadata": {},
   "outputs": [],
   "source": []
  }
 ],
 "metadata": {
  "kernelspec": {
   "display_name": "Python 3",
   "language": "python",
   "name": "python3"
  },
  "language_info": {
   "codemirror_mode": {
    "name": "ipython",
    "version": 3
   },
   "file_extension": ".py",
   "mimetype": "text/x-python",
   "name": "python",
   "nbconvert_exporter": "python",
   "pygments_lexer": "ipython3",
   "version": "3.8.9"
  }
 },
 "nbformat": 4,
 "nbformat_minor": 5
}
